{
 "cells": [
  {
   "cell_type": "markdown",
   "metadata": {
    "id": "makbcIfgj9wk"
   },
   "source": [
    "# End-to-End Data Science Workflow Demo\n",
    "This notebook generates a synthetic dataset (6500+ rows, 20 columns) with mixed types and intentional data quality issues, then walks through:\n",
    "1. Data Wrangling & Cleaning\n",
    "2. Exploratory Data Analysis (EDA)\n",
    "3. Predictive Modeling (Regression & Classification)\n",
    "4. Deployment with Gradio (two mini apps)\n",
    "\n",
    "*Targets*\n",
    "- Regression target: monthly_spend\n",
    "- Classification target: churn (0/1)\n",
    "\n",
    "*How to use*: Run cells from top to bottom in Google Colab."
   ]
  },
  {
   "cell_type": "markdown",
   "metadata": {
    "id": "Q-UdokZ9kGKi"
   },
   "source": [
    "# **Classification**"
   ]
  },
  {
   "cell_type": "code",
   "execution_count": 30,
   "metadata": {
    "colab": {
     "base_uri": "https://localhost:8080/",
     "height": 261
    },
    "collapsed": true,
    "executionInfo": {
     "elapsed": 169,
     "status": "ok",
     "timestamp": 1761461050040,
     "user": {
      "displayName": "Nurul Eirda Nurina Abd Halim",
      "userId": "07254626677884203620"
     },
     "user_tz": -480
    },
    "id": "xkZIEg2ZheLI",
    "outputId": "67ada38e-1e33-4d95-d357-198778b4bd28"
   },
   "outputs": [
    {
     "data": {
      "text/html": [
       "<div>\n",
       "<style scoped>\n",
       "    .dataframe tbody tr th:only-of-type {\n",
       "        vertical-align: middle;\n",
       "    }\n",
       "\n",
       "    .dataframe tbody tr th {\n",
       "        vertical-align: top;\n",
       "    }\n",
       "\n",
       "    .dataframe thead th {\n",
       "        text-align: right;\n",
       "    }\n",
       "</style>\n",
       "<table border=\"1\" class=\"dataframe\">\n",
       "  <thead>\n",
       "    <tr style=\"text-align: right;\">\n",
       "      <th></th>\n",
       "      <th>customer_id</th>\n",
       "      <th>signup_date</th>\n",
       "      <th>country</th>\n",
       "      <th>city</th>\n",
       "      <th>gender</th>\n",
       "      <th>age</th>\n",
       "      <th>membership_tier</th>\n",
       "      <th>tenure_months</th>\n",
       "      <th>avg_session_length</th>\n",
       "      <th>sessions_per_month</th>\n",
       "      <th>...</th>\n",
       "      <th>clicks_per_session</th>\n",
       "      <th>device_per_session</th>\n",
       "      <th>referral_per_month</th>\n",
       "      <th>loyalty_score</th>\n",
       "      <th>engagement_index</th>\n",
       "      <th>referral_value_score</th>\n",
       "      <th>discount_sensitivity</th>\n",
       "      <th>mobile_loyalty_flag</th>\n",
       "      <th>signup_month</th>\n",
       "      <th>signup_dayofweek</th>\n",
       "    </tr>\n",
       "  </thead>\n",
       "  <tbody>\n",
       "    <tr>\n",
       "      <th>0</th>\n",
       "      <td>100000</td>\n",
       "      <td>2025-02-24</td>\n",
       "      <td>malaysia</td>\n",
       "      <td>kuala lumpur</td>\n",
       "      <td>other</td>\n",
       "      <td>39</td>\n",
       "      <td>standard</td>\n",
       "      <td>8</td>\n",
       "      <td>21.51</td>\n",
       "      <td>21</td>\n",
       "      <td>...</td>\n",
       "      <td>0.014999</td>\n",
       "      <td>0.095234</td>\n",
       "      <td>0.000000</td>\n",
       "      <td>55.2</td>\n",
       "      <td>3116.799</td>\n",
       "      <td>0.0</td>\n",
       "      <td>0.0</td>\n",
       "      <td>1</td>\n",
       "      <td>2</td>\n",
       "      <td>0</td>\n",
       "    </tr>\n",
       "    <tr>\n",
       "      <th>1</th>\n",
       "      <td>100001</td>\n",
       "      <td>2021-04-24</td>\n",
       "      <td>philippines</td>\n",
       "      <td>cebu</td>\n",
       "      <td>male</td>\n",
       "      <td>51</td>\n",
       "      <td>basic</td>\n",
       "      <td>55</td>\n",
       "      <td>19.60</td>\n",
       "      <td>16</td>\n",
       "      <td>...</td>\n",
       "      <td>0.013999</td>\n",
       "      <td>0.124992</td>\n",
       "      <td>0.000000</td>\n",
       "      <td>313.5</td>\n",
       "      <td>1787.520</td>\n",
       "      <td>0.0</td>\n",
       "      <td>0.0</td>\n",
       "      <td>0</td>\n",
       "      <td>4</td>\n",
       "      <td>5</td>\n",
       "    </tr>\n",
       "    <tr>\n",
       "      <th>2</th>\n",
       "      <td>100002</td>\n",
       "      <td>2019-05-29</td>\n",
       "      <td>thailand</td>\n",
       "      <td>phuket</td>\n",
       "      <td>female</td>\n",
       "      <td>29</td>\n",
       "      <td>standard</td>\n",
       "      <td>78</td>\n",
       "      <td>31.98</td>\n",
       "      <td>18</td>\n",
       "      <td>...</td>\n",
       "      <td>0.002944</td>\n",
       "      <td>0.277762</td>\n",
       "      <td>0.000000</td>\n",
       "      <td>491.4</td>\n",
       "      <td>3626.532</td>\n",
       "      <td>0.0</td>\n",
       "      <td>0.0</td>\n",
       "      <td>1</td>\n",
       "      <td>5</td>\n",
       "      <td>2</td>\n",
       "    </tr>\n",
       "    <tr>\n",
       "      <th>3</th>\n",
       "      <td>100003</td>\n",
       "      <td>2018-01-01</td>\n",
       "      <td>indonesia</td>\n",
       "      <td>jakarta</td>\n",
       "      <td>female</td>\n",
       "      <td>43</td>\n",
       "      <td>standard</td>\n",
       "      <td>95</td>\n",
       "      <td>12.71</td>\n",
       "      <td>19</td>\n",
       "      <td>...</td>\n",
       "      <td>0.012157</td>\n",
       "      <td>0.157886</td>\n",
       "      <td>0.010526</td>\n",
       "      <td>693.5</td>\n",
       "      <td>1762.877</td>\n",
       "      <td>7.3</td>\n",
       "      <td>0.0</td>\n",
       "      <td>0</td>\n",
       "      <td>1</td>\n",
       "      <td>0</td>\n",
       "    </tr>\n",
       "    <tr>\n",
       "      <th>4</th>\n",
       "      <td>100004</td>\n",
       "      <td>2021-06-16</td>\n",
       "      <td>malaysia</td>\n",
       "      <td>shah alam</td>\n",
       "      <td>male</td>\n",
       "      <td>51</td>\n",
       "      <td>standard</td>\n",
       "      <td>53</td>\n",
       "      <td>3.00</td>\n",
       "      <td>15</td>\n",
       "      <td>...</td>\n",
       "      <td>0.002400</td>\n",
       "      <td>0.199987</td>\n",
       "      <td>0.000000</td>\n",
       "      <td>307.4</td>\n",
       "      <td>261.000</td>\n",
       "      <td>0.0</td>\n",
       "      <td>0.0</td>\n",
       "      <td>1</td>\n",
       "      <td>6</td>\n",
       "      <td>2</td>\n",
       "    </tr>\n",
       "  </tbody>\n",
       "</table>\n",
       "<p>5 rows × 32 columns</p>\n",
       "</div>"
      ],
      "text/plain": [
       "   customer_id signup_date      country          city  gender  age  \\\n",
       "0       100000  2025-02-24     malaysia  kuala lumpur   other   39   \n",
       "1       100001  2021-04-24  philippines          cebu    male   51   \n",
       "2       100002  2019-05-29     thailand        phuket  female   29   \n",
       "3       100003  2018-01-01    indonesia       jakarta  female   43   \n",
       "4       100004  2021-06-16     malaysia     shah alam    male   51   \n",
       "\n",
       "  membership_tier  tenure_months  avg_session_length  sessions_per_month  ...  \\\n",
       "0        standard              8               21.51                  21  ...   \n",
       "1           basic             55               19.60                  16  ...   \n",
       "2        standard             78               31.98                  18  ...   \n",
       "3        standard             95               12.71                  19  ...   \n",
       "4        standard             53                3.00                  15  ...   \n",
       "\n",
       "   clicks_per_session device_per_session  referral_per_month  loyalty_score  \\\n",
       "0            0.014999           0.095234            0.000000           55.2   \n",
       "1            0.013999           0.124992            0.000000          313.5   \n",
       "2            0.002944           0.277762            0.000000          491.4   \n",
       "3            0.012157           0.157886            0.010526          693.5   \n",
       "4            0.002400           0.199987            0.000000          307.4   \n",
       "\n",
       "   engagement_index  referral_value_score  discount_sensitivity  \\\n",
       "0          3116.799                   0.0                   0.0   \n",
       "1          1787.520                   0.0                   0.0   \n",
       "2          3626.532                   0.0                   0.0   \n",
       "3          1762.877                   7.3                   0.0   \n",
       "4           261.000                   0.0                   0.0   \n",
       "\n",
       "   mobile_loyalty_flag  signup_month  signup_dayofweek  \n",
       "0                    1             2                 0  \n",
       "1                    0             4                 5  \n",
       "2                    1             5                 2  \n",
       "3                    0             1                 0  \n",
       "4                    1             6                 2  \n",
       "\n",
       "[5 rows x 32 columns]"
      ]
     },
     "execution_count": 30,
     "metadata": {},
     "output_type": "execute_result"
    }
   ],
   "source": [
    "import pandas as pd\n",
    "import numpy as np\n",
    "\n",
    "df = pd.read_csv ('cleaned_data.csv')\n",
    "df.head()"
   ]
  },
  {
   "cell_type": "markdown",
   "metadata": {
    "id": "fg5f-hm8z5tI"
   },
   "source": [
    "Check data types"
   ]
  },
  {
   "cell_type": "code",
   "execution_count": 31,
   "metadata": {
    "colab": {
     "base_uri": "https://localhost:8080/",
     "height": 711
    },
    "collapsed": true,
    "executionInfo": {
     "elapsed": 59,
     "status": "ok",
     "timestamp": 1761461050098,
     "user": {
      "displayName": "Nurul Eirda Nurina Abd Halim",
      "userId": "07254626677884203620"
     },
     "user_tz": -480
    },
    "id": "v_akf1eOybEw",
    "outputId": "a24ee3b8-904f-47bf-c5f2-2be69b4f139e"
   },
   "outputs": [
    {
     "data": {
      "text/plain": [
       "customer_id               int64\n",
       "signup_date              object\n",
       "country                  object\n",
       "city                     object\n",
       "gender                   object\n",
       "age                       int64\n",
       "membership_tier          object\n",
       "tenure_months             int64\n",
       "avg_session_length      float64\n",
       "sessions_per_month        int64\n",
       "support_tickets           int64\n",
       "last_payment_method      object\n",
       "is_mobile_user             bool\n",
       "num_devices               int64\n",
       "email_click_rate        float64\n",
       "referral_count            int64\n",
       "discount_rate           float64\n",
       "satisfaction_score      float64\n",
       "monthly_spend           float64\n",
       "churn                     int64\n",
       "total_session_time      float64\n",
       "complaint_rate          float64\n",
       "clicks_per_session      float64\n",
       "device_per_session      float64\n",
       "referral_per_month      float64\n",
       "loyalty_score           float64\n",
       "engagement_index        float64\n",
       "referral_value_score    float64\n",
       "discount_sensitivity    float64\n",
       "mobile_loyalty_flag       int64\n",
       "signup_month              int64\n",
       "signup_dayofweek          int64\n",
       "dtype: object"
      ]
     },
     "execution_count": 31,
     "metadata": {},
     "output_type": "execute_result"
    }
   ],
   "source": [
    "df.dtypes"
   ]
  },
  {
   "cell_type": "markdown",
   "metadata": {
    "id": "gSfx2knfpHDL"
   },
   "source": [
    "## **Data Pre-processing**"
   ]
  },
  {
   "cell_type": "markdown",
   "metadata": {
    "id": "isFixtXV0AmY"
   },
   "source": [
    "Check for the object data type"
   ]
  },
  {
   "cell_type": "code",
   "execution_count": 32,
   "metadata": {
    "colab": {
     "base_uri": "https://localhost:8080/",
     "height": 272
    },
    "collapsed": true,
    "executionInfo": {
     "elapsed": 16,
     "status": "ok",
     "timestamp": 1761461050101,
     "user": {
      "displayName": "Nurul Eirda Nurina Abd Halim",
      "userId": "07254626677884203620"
     },
     "user_tz": -480
    },
    "id": "KO1ms1V9oOcr",
    "outputId": "b5c3de6b-b65c-4ea5-84da-16422266e38c"
   },
   "outputs": [
    {
     "data": {
      "text/plain": [
       "signup_date            object\n",
       "country                object\n",
       "city                   object\n",
       "gender                 object\n",
       "membership_tier        object\n",
       "last_payment_method    object\n",
       "dtype: object"
      ]
     },
     "execution_count": 32,
     "metadata": {},
     "output_type": "execute_result"
    }
   ],
   "source": [
    "categorical_cols = df.select_dtypes(include=[\"object\"])\n",
    "categorical_cols.dtypes"
   ]
  },
  {
   "cell_type": "markdown",
   "metadata": {
    "id": "UqdSmt-T0SN0"
   },
   "source": [
    "Convert signup_date datatype : object -> date"
   ]
  },
  {
   "cell_type": "code",
   "execution_count": 33,
   "metadata": {
    "executionInfo": {
     "elapsed": 10,
     "status": "ok",
     "timestamp": 1761461050102,
     "user": {
      "displayName": "Nurul Eirda Nurina Abd Halim",
      "userId": "07254626677884203620"
     },
     "user_tz": -480
    },
    "id": "9txON4JBykBO"
   },
   "outputs": [],
   "source": [
    "# Convert signup_date to datetime (coerce errors); age/discount_rate to numeric; normalize gender case\n",
    "df['signup_date'] = pd.to_datetime(df['signup_date'], errors='coerce')"
   ]
  },
  {
   "cell_type": "markdown",
   "metadata": {
    "id": "Yf0wNyHp0Y0D"
   },
   "source": [
    "Check data type"
   ]
  },
  {
   "cell_type": "code",
   "execution_count": 34,
   "metadata": {
    "colab": {
     "base_uri": "https://localhost:8080/",
     "height": 711
    },
    "collapsed": true,
    "executionInfo": {
     "elapsed": 47,
     "status": "ok",
     "timestamp": 1761461050144,
     "user": {
      "displayName": "Nurul Eirda Nurina Abd Halim",
      "userId": "07254626677884203620"
     },
     "user_tz": -480
    },
    "id": "r6T7awd0ylU5",
    "outputId": "46d89f9b-0605-418c-fb93-9a7cdee7db70"
   },
   "outputs": [
    {
     "data": {
      "text/plain": [
       "customer_id                      int64\n",
       "signup_date             datetime64[ns]\n",
       "country                         object\n",
       "city                            object\n",
       "gender                          object\n",
       "age                              int64\n",
       "membership_tier                 object\n",
       "tenure_months                    int64\n",
       "avg_session_length             float64\n",
       "sessions_per_month               int64\n",
       "support_tickets                  int64\n",
       "last_payment_method             object\n",
       "is_mobile_user                    bool\n",
       "num_devices                      int64\n",
       "email_click_rate               float64\n",
       "referral_count                   int64\n",
       "discount_rate                  float64\n",
       "satisfaction_score             float64\n",
       "monthly_spend                  float64\n",
       "churn                            int64\n",
       "total_session_time             float64\n",
       "complaint_rate                 float64\n",
       "clicks_per_session             float64\n",
       "device_per_session             float64\n",
       "referral_per_month             float64\n",
       "loyalty_score                  float64\n",
       "engagement_index               float64\n",
       "referral_value_score           float64\n",
       "discount_sensitivity           float64\n",
       "mobile_loyalty_flag              int64\n",
       "signup_month                     int64\n",
       "signup_dayofweek                 int64\n",
       "dtype: object"
      ]
     },
     "execution_count": 34,
     "metadata": {},
     "output_type": "execute_result"
    }
   ],
   "source": [
    "df.dtypes"
   ]
  },
  {
   "cell_type": "markdown",
   "metadata": {
    "id": "dWx56QVw0k6U"
   },
   "source": [
    "Check data data types : object -> float or int"
   ]
  },
  {
   "cell_type": "code",
   "execution_count": 35,
   "metadata": {
    "colab": {
     "base_uri": "https://localhost:8080/",
     "height": 711
    },
    "collapsed": true,
    "executionInfo": {
     "elapsed": 68,
     "status": "ok",
     "timestamp": 1761461050315,
     "user": {
      "displayName": "Nurul Eirda Nurina Abd Halim",
      "userId": "07254626677884203620"
     },
     "user_tz": -480
    },
    "id": "eMKLi2K00bcR",
    "outputId": "62c2e569-459d-4c04-9d55-f1e2580c2eb7"
   },
   "outputs": [
    {
     "data": {
      "text/plain": [
       "customer_id                      int64\n",
       "signup_date             datetime64[ns]\n",
       "country                         object\n",
       "city                            object\n",
       "gender                          object\n",
       "age                              int64\n",
       "membership_tier                 object\n",
       "tenure_months                    int64\n",
       "avg_session_length             float64\n",
       "sessions_per_month               int64\n",
       "support_tickets                  int64\n",
       "last_payment_method             object\n",
       "is_mobile_user                    bool\n",
       "num_devices                      int64\n",
       "email_click_rate               float64\n",
       "referral_count                   int64\n",
       "discount_rate                  float64\n",
       "satisfaction_score             float64\n",
       "monthly_spend                  float64\n",
       "churn                            int64\n",
       "total_session_time             float64\n",
       "complaint_rate                 float64\n",
       "clicks_per_session             float64\n",
       "device_per_session             float64\n",
       "referral_per_month             float64\n",
       "loyalty_score                  float64\n",
       "engagement_index               float64\n",
       "referral_value_score           float64\n",
       "discount_sensitivity           float64\n",
       "mobile_loyalty_flag              int64\n",
       "signup_month                     int64\n",
       "signup_dayofweek                 int64\n",
       "dtype: object"
      ]
     },
     "execution_count": 35,
     "metadata": {},
     "output_type": "execute_result"
    }
   ],
   "source": [
    "df.dtypes"
   ]
  },
  {
   "cell_type": "code",
   "execution_count": 36,
   "metadata": {
    "colab": {
     "base_uri": "https://localhost:8080/",
     "height": 226
    },
    "collapsed": true,
    "executionInfo": {
     "elapsed": 42,
     "status": "ok",
     "timestamp": 1761461050424,
     "user": {
      "displayName": "Nurul Eirda Nurina Abd Halim",
      "userId": "07254626677884203620"
     },
     "user_tz": -480
    },
    "id": "7yFTCl2b9Br5",
    "outputId": "d7dca889-d144-443f-c863-26632e6423f7"
   },
   "outputs": [
    {
     "data": {
      "text/html": [
       "<div>\n",
       "<style scoped>\n",
       "    .dataframe tbody tr th:only-of-type {\n",
       "        vertical-align: middle;\n",
       "    }\n",
       "\n",
       "    .dataframe tbody tr th {\n",
       "        vertical-align: top;\n",
       "    }\n",
       "\n",
       "    .dataframe thead th {\n",
       "        text-align: right;\n",
       "    }\n",
       "</style>\n",
       "<table border=\"1\" class=\"dataframe\">\n",
       "  <thead>\n",
       "    <tr style=\"text-align: right;\">\n",
       "      <th></th>\n",
       "      <th>customer_id</th>\n",
       "      <th>signup_date</th>\n",
       "      <th>country</th>\n",
       "      <th>city</th>\n",
       "      <th>gender</th>\n",
       "      <th>age</th>\n",
       "      <th>membership_tier</th>\n",
       "      <th>tenure_months</th>\n",
       "      <th>avg_session_length</th>\n",
       "      <th>sessions_per_month</th>\n",
       "      <th>...</th>\n",
       "      <th>clicks_per_session</th>\n",
       "      <th>device_per_session</th>\n",
       "      <th>referral_per_month</th>\n",
       "      <th>loyalty_score</th>\n",
       "      <th>engagement_index</th>\n",
       "      <th>referral_value_score</th>\n",
       "      <th>discount_sensitivity</th>\n",
       "      <th>mobile_loyalty_flag</th>\n",
       "      <th>signup_month</th>\n",
       "      <th>signup_dayofweek</th>\n",
       "    </tr>\n",
       "  </thead>\n",
       "  <tbody>\n",
       "    <tr>\n",
       "      <th>0</th>\n",
       "      <td>100000</td>\n",
       "      <td>2025-02-24</td>\n",
       "      <td>malaysia</td>\n",
       "      <td>kuala lumpur</td>\n",
       "      <td>other</td>\n",
       "      <td>39</td>\n",
       "      <td>standard</td>\n",
       "      <td>8</td>\n",
       "      <td>21.51</td>\n",
       "      <td>21</td>\n",
       "      <td>...</td>\n",
       "      <td>0.014999</td>\n",
       "      <td>0.095234</td>\n",
       "      <td>0.000000</td>\n",
       "      <td>55.2</td>\n",
       "      <td>3116.799</td>\n",
       "      <td>0.0</td>\n",
       "      <td>0.0</td>\n",
       "      <td>1</td>\n",
       "      <td>2</td>\n",
       "      <td>0</td>\n",
       "    </tr>\n",
       "    <tr>\n",
       "      <th>1</th>\n",
       "      <td>100001</td>\n",
       "      <td>2021-04-24</td>\n",
       "      <td>philippines</td>\n",
       "      <td>cebu</td>\n",
       "      <td>male</td>\n",
       "      <td>51</td>\n",
       "      <td>basic</td>\n",
       "      <td>55</td>\n",
       "      <td>19.60</td>\n",
       "      <td>16</td>\n",
       "      <td>...</td>\n",
       "      <td>0.013999</td>\n",
       "      <td>0.124992</td>\n",
       "      <td>0.000000</td>\n",
       "      <td>313.5</td>\n",
       "      <td>1787.520</td>\n",
       "      <td>0.0</td>\n",
       "      <td>0.0</td>\n",
       "      <td>0</td>\n",
       "      <td>4</td>\n",
       "      <td>5</td>\n",
       "    </tr>\n",
       "    <tr>\n",
       "      <th>2</th>\n",
       "      <td>100002</td>\n",
       "      <td>2019-05-29</td>\n",
       "      <td>thailand</td>\n",
       "      <td>phuket</td>\n",
       "      <td>female</td>\n",
       "      <td>29</td>\n",
       "      <td>standard</td>\n",
       "      <td>78</td>\n",
       "      <td>31.98</td>\n",
       "      <td>18</td>\n",
       "      <td>...</td>\n",
       "      <td>0.002944</td>\n",
       "      <td>0.277762</td>\n",
       "      <td>0.000000</td>\n",
       "      <td>491.4</td>\n",
       "      <td>3626.532</td>\n",
       "      <td>0.0</td>\n",
       "      <td>0.0</td>\n",
       "      <td>1</td>\n",
       "      <td>5</td>\n",
       "      <td>2</td>\n",
       "    </tr>\n",
       "    <tr>\n",
       "      <th>3</th>\n",
       "      <td>100003</td>\n",
       "      <td>2018-01-01</td>\n",
       "      <td>indonesia</td>\n",
       "      <td>jakarta</td>\n",
       "      <td>female</td>\n",
       "      <td>43</td>\n",
       "      <td>standard</td>\n",
       "      <td>95</td>\n",
       "      <td>12.71</td>\n",
       "      <td>19</td>\n",
       "      <td>...</td>\n",
       "      <td>0.012157</td>\n",
       "      <td>0.157886</td>\n",
       "      <td>0.010526</td>\n",
       "      <td>693.5</td>\n",
       "      <td>1762.877</td>\n",
       "      <td>7.3</td>\n",
       "      <td>0.0</td>\n",
       "      <td>0</td>\n",
       "      <td>1</td>\n",
       "      <td>0</td>\n",
       "    </tr>\n",
       "    <tr>\n",
       "      <th>4</th>\n",
       "      <td>100004</td>\n",
       "      <td>2021-06-16</td>\n",
       "      <td>malaysia</td>\n",
       "      <td>shah alam</td>\n",
       "      <td>male</td>\n",
       "      <td>51</td>\n",
       "      <td>standard</td>\n",
       "      <td>53</td>\n",
       "      <td>3.00</td>\n",
       "      <td>15</td>\n",
       "      <td>...</td>\n",
       "      <td>0.002400</td>\n",
       "      <td>0.199987</td>\n",
       "      <td>0.000000</td>\n",
       "      <td>307.4</td>\n",
       "      <td>261.000</td>\n",
       "      <td>0.0</td>\n",
       "      <td>0.0</td>\n",
       "      <td>1</td>\n",
       "      <td>6</td>\n",
       "      <td>2</td>\n",
       "    </tr>\n",
       "  </tbody>\n",
       "</table>\n",
       "<p>5 rows × 32 columns</p>\n",
       "</div>"
      ],
      "text/plain": [
       "   customer_id signup_date      country          city  gender  age  \\\n",
       "0       100000  2025-02-24     malaysia  kuala lumpur   other   39   \n",
       "1       100001  2021-04-24  philippines          cebu    male   51   \n",
       "2       100002  2019-05-29     thailand        phuket  female   29   \n",
       "3       100003  2018-01-01    indonesia       jakarta  female   43   \n",
       "4       100004  2021-06-16     malaysia     shah alam    male   51   \n",
       "\n",
       "  membership_tier  tenure_months  avg_session_length  sessions_per_month  ...  \\\n",
       "0        standard              8               21.51                  21  ...   \n",
       "1           basic             55               19.60                  16  ...   \n",
       "2        standard             78               31.98                  18  ...   \n",
       "3        standard             95               12.71                  19  ...   \n",
       "4        standard             53                3.00                  15  ...   \n",
       "\n",
       "   clicks_per_session device_per_session  referral_per_month  loyalty_score  \\\n",
       "0            0.014999           0.095234            0.000000           55.2   \n",
       "1            0.013999           0.124992            0.000000          313.5   \n",
       "2            0.002944           0.277762            0.000000          491.4   \n",
       "3            0.012157           0.157886            0.010526          693.5   \n",
       "4            0.002400           0.199987            0.000000          307.4   \n",
       "\n",
       "   engagement_index  referral_value_score  discount_sensitivity  \\\n",
       "0          3116.799                   0.0                   0.0   \n",
       "1          1787.520                   0.0                   0.0   \n",
       "2          3626.532                   0.0                   0.0   \n",
       "3          1762.877                   7.3                   0.0   \n",
       "4           261.000                   0.0                   0.0   \n",
       "\n",
       "   mobile_loyalty_flag  signup_month  signup_dayofweek  \n",
       "0                    1             2                 0  \n",
       "1                    0             4                 5  \n",
       "2                    1             5                 2  \n",
       "3                    0             1                 0  \n",
       "4                    1             6                 2  \n",
       "\n",
       "[5 rows x 32 columns]"
      ]
     },
     "execution_count": 36,
     "metadata": {},
     "output_type": "execute_result"
    }
   ],
   "source": [
    "df.head()"
   ]
  },
  {
   "cell_type": "code",
   "execution_count": 37,
   "metadata": {},
   "outputs": [],
   "source": [
    "feature_cols = [col for col in df.columns if col not in ['churn', 'signup_date', 'customer_id']]\n",
    "categorical_cols = ['country', 'city', 'gender', 'membership_tier', 'last_payment_method']"
   ]
  },
  {
   "cell_type": "code",
   "execution_count": 38,
   "metadata": {
    "colab": {
     "base_uri": "https://localhost:8080/",
     "height": 226
    },
    "collapsed": true,
    "executionInfo": {
     "elapsed": 39,
     "status": "ok",
     "timestamp": 1761461050515,
     "user": {
      "displayName": "Nurul Eirda Nurina Abd Halim",
      "userId": "07254626677884203620"
     },
     "user_tz": -480
    },
    "id": "5Az9B1eDl7cv",
    "outputId": "cd09c122-c8db-4d93-a5e0-17b00195e87f"
   },
   "outputs": [
    {
     "data": {
      "text/html": [
       "<div>\n",
       "<style scoped>\n",
       "    .dataframe tbody tr th:only-of-type {\n",
       "        vertical-align: middle;\n",
       "    }\n",
       "\n",
       "    .dataframe tbody tr th {\n",
       "        vertical-align: top;\n",
       "    }\n",
       "\n",
       "    .dataframe thead th {\n",
       "        text-align: right;\n",
       "    }\n",
       "</style>\n",
       "<table border=\"1\" class=\"dataframe\">\n",
       "  <thead>\n",
       "    <tr style=\"text-align: right;\">\n",
       "      <th></th>\n",
       "      <th>country</th>\n",
       "      <th>city</th>\n",
       "      <th>gender</th>\n",
       "      <th>age</th>\n",
       "      <th>membership_tier</th>\n",
       "      <th>tenure_months</th>\n",
       "      <th>avg_session_length</th>\n",
       "      <th>sessions_per_month</th>\n",
       "      <th>support_tickets</th>\n",
       "      <th>last_payment_method</th>\n",
       "      <th>...</th>\n",
       "      <th>clicks_per_session</th>\n",
       "      <th>device_per_session</th>\n",
       "      <th>referral_per_month</th>\n",
       "      <th>loyalty_score</th>\n",
       "      <th>engagement_index</th>\n",
       "      <th>referral_value_score</th>\n",
       "      <th>discount_sensitivity</th>\n",
       "      <th>mobile_loyalty_flag</th>\n",
       "      <th>signup_month</th>\n",
       "      <th>signup_dayofweek</th>\n",
       "    </tr>\n",
       "  </thead>\n",
       "  <tbody>\n",
       "    <tr>\n",
       "      <th>0</th>\n",
       "      <td>malaysia</td>\n",
       "      <td>kuala lumpur</td>\n",
       "      <td>other</td>\n",
       "      <td>39</td>\n",
       "      <td>standard</td>\n",
       "      <td>8</td>\n",
       "      <td>21.51</td>\n",
       "      <td>21</td>\n",
       "      <td>0</td>\n",
       "      <td>credit card</td>\n",
       "      <td>...</td>\n",
       "      <td>0.014999</td>\n",
       "      <td>0.095234</td>\n",
       "      <td>0.000000</td>\n",
       "      <td>55.2</td>\n",
       "      <td>3116.799</td>\n",
       "      <td>0.0</td>\n",
       "      <td>0.0</td>\n",
       "      <td>1</td>\n",
       "      <td>2</td>\n",
       "      <td>0</td>\n",
       "    </tr>\n",
       "    <tr>\n",
       "      <th>1</th>\n",
       "      <td>philippines</td>\n",
       "      <td>cebu</td>\n",
       "      <td>male</td>\n",
       "      <td>51</td>\n",
       "      <td>basic</td>\n",
       "      <td>55</td>\n",
       "      <td>19.60</td>\n",
       "      <td>16</td>\n",
       "      <td>1</td>\n",
       "      <td>paypal</td>\n",
       "      <td>...</td>\n",
       "      <td>0.013999</td>\n",
       "      <td>0.124992</td>\n",
       "      <td>0.000000</td>\n",
       "      <td>313.5</td>\n",
       "      <td>1787.520</td>\n",
       "      <td>0.0</td>\n",
       "      <td>0.0</td>\n",
       "      <td>0</td>\n",
       "      <td>4</td>\n",
       "      <td>5</td>\n",
       "    </tr>\n",
       "    <tr>\n",
       "      <th>2</th>\n",
       "      <td>thailand</td>\n",
       "      <td>phuket</td>\n",
       "      <td>female</td>\n",
       "      <td>29</td>\n",
       "      <td>standard</td>\n",
       "      <td>78</td>\n",
       "      <td>31.98</td>\n",
       "      <td>18</td>\n",
       "      <td>0</td>\n",
       "      <td>credit card</td>\n",
       "      <td>...</td>\n",
       "      <td>0.002944</td>\n",
       "      <td>0.277762</td>\n",
       "      <td>0.000000</td>\n",
       "      <td>491.4</td>\n",
       "      <td>3626.532</td>\n",
       "      <td>0.0</td>\n",
       "      <td>0.0</td>\n",
       "      <td>1</td>\n",
       "      <td>5</td>\n",
       "      <td>2</td>\n",
       "    </tr>\n",
       "    <tr>\n",
       "      <th>3</th>\n",
       "      <td>indonesia</td>\n",
       "      <td>jakarta</td>\n",
       "      <td>female</td>\n",
       "      <td>43</td>\n",
       "      <td>standard</td>\n",
       "      <td>95</td>\n",
       "      <td>12.71</td>\n",
       "      <td>19</td>\n",
       "      <td>2</td>\n",
       "      <td>credit card</td>\n",
       "      <td>...</td>\n",
       "      <td>0.012157</td>\n",
       "      <td>0.157886</td>\n",
       "      <td>0.010526</td>\n",
       "      <td>693.5</td>\n",
       "      <td>1762.877</td>\n",
       "      <td>7.3</td>\n",
       "      <td>0.0</td>\n",
       "      <td>0</td>\n",
       "      <td>1</td>\n",
       "      <td>0</td>\n",
       "    </tr>\n",
       "    <tr>\n",
       "      <th>4</th>\n",
       "      <td>malaysia</td>\n",
       "      <td>shah alam</td>\n",
       "      <td>male</td>\n",
       "      <td>51</td>\n",
       "      <td>standard</td>\n",
       "      <td>53</td>\n",
       "      <td>3.00</td>\n",
       "      <td>15</td>\n",
       "      <td>1</td>\n",
       "      <td>unknown</td>\n",
       "      <td>...</td>\n",
       "      <td>0.002400</td>\n",
       "      <td>0.199987</td>\n",
       "      <td>0.000000</td>\n",
       "      <td>307.4</td>\n",
       "      <td>261.000</td>\n",
       "      <td>0.0</td>\n",
       "      <td>0.0</td>\n",
       "      <td>1</td>\n",
       "      <td>6</td>\n",
       "      <td>2</td>\n",
       "    </tr>\n",
       "  </tbody>\n",
       "</table>\n",
       "<p>5 rows × 29 columns</p>\n",
       "</div>"
      ],
      "text/plain": [
       "       country          city  gender  age membership_tier  tenure_months  \\\n",
       "0     malaysia  kuala lumpur   other   39        standard              8   \n",
       "1  philippines          cebu    male   51           basic             55   \n",
       "2     thailand        phuket  female   29        standard             78   \n",
       "3    indonesia       jakarta  female   43        standard             95   \n",
       "4     malaysia     shah alam    male   51        standard             53   \n",
       "\n",
       "   avg_session_length  sessions_per_month  support_tickets  \\\n",
       "0               21.51                  21                0   \n",
       "1               19.60                  16                1   \n",
       "2               31.98                  18                0   \n",
       "3               12.71                  19                2   \n",
       "4                3.00                  15                1   \n",
       "\n",
       "  last_payment_method  ...  clicks_per_session  device_per_session  \\\n",
       "0         credit card  ...            0.014999            0.095234   \n",
       "1              paypal  ...            0.013999            0.124992   \n",
       "2         credit card  ...            0.002944            0.277762   \n",
       "3         credit card  ...            0.012157            0.157886   \n",
       "4             unknown  ...            0.002400            0.199987   \n",
       "\n",
       "   referral_per_month  loyalty_score  engagement_index  referral_value_score  \\\n",
       "0            0.000000           55.2          3116.799                   0.0   \n",
       "1            0.000000          313.5          1787.520                   0.0   \n",
       "2            0.000000          491.4          3626.532                   0.0   \n",
       "3            0.010526          693.5          1762.877                   7.3   \n",
       "4            0.000000          307.4           261.000                   0.0   \n",
       "\n",
       "   discount_sensitivity  mobile_loyalty_flag  signup_month  signup_dayofweek  \n",
       "0                   0.0                    1             2                 0  \n",
       "1                   0.0                    0             4                 5  \n",
       "2                   0.0                    1             5                 2  \n",
       "3                   0.0                    0             1                 0  \n",
       "4                   0.0                    1             6                 2  \n",
       "\n",
       "[5 rows x 29 columns]"
      ]
     },
     "execution_count": 38,
     "metadata": {},
     "output_type": "execute_result"
    }
   ],
   "source": [
    "X = df[feature_cols].copy()\n",
    "y = df['churn']\n",
    "\n",
    "X.head()"
   ]
  },
  {
   "cell_type": "code",
   "execution_count": 39,
   "metadata": {},
   "outputs": [
    {
     "data": {
      "text/html": [
       "<div>\n",
       "<style scoped>\n",
       "    .dataframe tbody tr th:only-of-type {\n",
       "        vertical-align: middle;\n",
       "    }\n",
       "\n",
       "    .dataframe tbody tr th {\n",
       "        vertical-align: top;\n",
       "    }\n",
       "\n",
       "    .dataframe thead th {\n",
       "        text-align: right;\n",
       "    }\n",
       "</style>\n",
       "<table border=\"1\" class=\"dataframe\">\n",
       "  <thead>\n",
       "    <tr style=\"text-align: right;\">\n",
       "      <th></th>\n",
       "      <th>customer_id</th>\n",
       "      <th>signup_date</th>\n",
       "      <th>country</th>\n",
       "      <th>city</th>\n",
       "      <th>gender</th>\n",
       "      <th>age</th>\n",
       "      <th>membership_tier</th>\n",
       "      <th>tenure_months</th>\n",
       "      <th>avg_session_length</th>\n",
       "      <th>sessions_per_month</th>\n",
       "      <th>...</th>\n",
       "      <th>clicks_per_session</th>\n",
       "      <th>device_per_session</th>\n",
       "      <th>referral_per_month</th>\n",
       "      <th>loyalty_score</th>\n",
       "      <th>engagement_index</th>\n",
       "      <th>referral_value_score</th>\n",
       "      <th>discount_sensitivity</th>\n",
       "      <th>mobile_loyalty_flag</th>\n",
       "      <th>signup_month</th>\n",
       "      <th>signup_dayofweek</th>\n",
       "    </tr>\n",
       "  </thead>\n",
       "  <tbody>\n",
       "    <tr>\n",
       "      <th>0</th>\n",
       "      <td>100000</td>\n",
       "      <td>2025-02-24</td>\n",
       "      <td>malaysia</td>\n",
       "      <td>kuala lumpur</td>\n",
       "      <td>other</td>\n",
       "      <td>39</td>\n",
       "      <td>standard</td>\n",
       "      <td>8</td>\n",
       "      <td>21.51</td>\n",
       "      <td>21</td>\n",
       "      <td>...</td>\n",
       "      <td>0.014999</td>\n",
       "      <td>0.095234</td>\n",
       "      <td>0.000000</td>\n",
       "      <td>55.2</td>\n",
       "      <td>3116.799</td>\n",
       "      <td>0.0</td>\n",
       "      <td>0.0</td>\n",
       "      <td>1</td>\n",
       "      <td>2</td>\n",
       "      <td>0</td>\n",
       "    </tr>\n",
       "    <tr>\n",
       "      <th>1</th>\n",
       "      <td>100001</td>\n",
       "      <td>2021-04-24</td>\n",
       "      <td>philippines</td>\n",
       "      <td>cebu</td>\n",
       "      <td>male</td>\n",
       "      <td>51</td>\n",
       "      <td>basic</td>\n",
       "      <td>55</td>\n",
       "      <td>19.60</td>\n",
       "      <td>16</td>\n",
       "      <td>...</td>\n",
       "      <td>0.013999</td>\n",
       "      <td>0.124992</td>\n",
       "      <td>0.000000</td>\n",
       "      <td>313.5</td>\n",
       "      <td>1787.520</td>\n",
       "      <td>0.0</td>\n",
       "      <td>0.0</td>\n",
       "      <td>0</td>\n",
       "      <td>4</td>\n",
       "      <td>5</td>\n",
       "    </tr>\n",
       "    <tr>\n",
       "      <th>2</th>\n",
       "      <td>100002</td>\n",
       "      <td>2019-05-29</td>\n",
       "      <td>thailand</td>\n",
       "      <td>phuket</td>\n",
       "      <td>female</td>\n",
       "      <td>29</td>\n",
       "      <td>standard</td>\n",
       "      <td>78</td>\n",
       "      <td>31.98</td>\n",
       "      <td>18</td>\n",
       "      <td>...</td>\n",
       "      <td>0.002944</td>\n",
       "      <td>0.277762</td>\n",
       "      <td>0.000000</td>\n",
       "      <td>491.4</td>\n",
       "      <td>3626.532</td>\n",
       "      <td>0.0</td>\n",
       "      <td>0.0</td>\n",
       "      <td>1</td>\n",
       "      <td>5</td>\n",
       "      <td>2</td>\n",
       "    </tr>\n",
       "    <tr>\n",
       "      <th>3</th>\n",
       "      <td>100003</td>\n",
       "      <td>2018-01-01</td>\n",
       "      <td>indonesia</td>\n",
       "      <td>jakarta</td>\n",
       "      <td>female</td>\n",
       "      <td>43</td>\n",
       "      <td>standard</td>\n",
       "      <td>95</td>\n",
       "      <td>12.71</td>\n",
       "      <td>19</td>\n",
       "      <td>...</td>\n",
       "      <td>0.012157</td>\n",
       "      <td>0.157886</td>\n",
       "      <td>0.010526</td>\n",
       "      <td>693.5</td>\n",
       "      <td>1762.877</td>\n",
       "      <td>7.3</td>\n",
       "      <td>0.0</td>\n",
       "      <td>0</td>\n",
       "      <td>1</td>\n",
       "      <td>0</td>\n",
       "    </tr>\n",
       "    <tr>\n",
       "      <th>4</th>\n",
       "      <td>100004</td>\n",
       "      <td>2021-06-16</td>\n",
       "      <td>malaysia</td>\n",
       "      <td>shah alam</td>\n",
       "      <td>male</td>\n",
       "      <td>51</td>\n",
       "      <td>standard</td>\n",
       "      <td>53</td>\n",
       "      <td>3.00</td>\n",
       "      <td>15</td>\n",
       "      <td>...</td>\n",
       "      <td>0.002400</td>\n",
       "      <td>0.199987</td>\n",
       "      <td>0.000000</td>\n",
       "      <td>307.4</td>\n",
       "      <td>261.000</td>\n",
       "      <td>0.0</td>\n",
       "      <td>0.0</td>\n",
       "      <td>1</td>\n",
       "      <td>6</td>\n",
       "      <td>2</td>\n",
       "    </tr>\n",
       "  </tbody>\n",
       "</table>\n",
       "<p>5 rows × 32 columns</p>\n",
       "</div>"
      ],
      "text/plain": [
       "   customer_id signup_date      country          city  gender  age  \\\n",
       "0       100000  2025-02-24     malaysia  kuala lumpur   other   39   \n",
       "1       100001  2021-04-24  philippines          cebu    male   51   \n",
       "2       100002  2019-05-29     thailand        phuket  female   29   \n",
       "3       100003  2018-01-01    indonesia       jakarta  female   43   \n",
       "4       100004  2021-06-16     malaysia     shah alam    male   51   \n",
       "\n",
       "  membership_tier  tenure_months  avg_session_length  sessions_per_month  ...  \\\n",
       "0        standard              8               21.51                  21  ...   \n",
       "1           basic             55               19.60                  16  ...   \n",
       "2        standard             78               31.98                  18  ...   \n",
       "3        standard             95               12.71                  19  ...   \n",
       "4        standard             53                3.00                  15  ...   \n",
       "\n",
       "   clicks_per_session device_per_session  referral_per_month  loyalty_score  \\\n",
       "0            0.014999           0.095234            0.000000           55.2   \n",
       "1            0.013999           0.124992            0.000000          313.5   \n",
       "2            0.002944           0.277762            0.000000          491.4   \n",
       "3            0.012157           0.157886            0.010526          693.5   \n",
       "4            0.002400           0.199987            0.000000          307.4   \n",
       "\n",
       "   engagement_index  referral_value_score  discount_sensitivity  \\\n",
       "0          3116.799                   0.0                   0.0   \n",
       "1          1787.520                   0.0                   0.0   \n",
       "2          3626.532                   0.0                   0.0   \n",
       "3          1762.877                   7.3                   0.0   \n",
       "4           261.000                   0.0                   0.0   \n",
       "\n",
       "   mobile_loyalty_flag  signup_month  signup_dayofweek  \n",
       "0                    1             2                 0  \n",
       "1                    0             4                 5  \n",
       "2                    1             5                 2  \n",
       "3                    0             1                 0  \n",
       "4                    1             6                 2  \n",
       "\n",
       "[5 rows x 32 columns]"
      ]
     },
     "execution_count": 39,
     "metadata": {},
     "output_type": "execute_result"
    }
   ],
   "source": [
    "from sklearn.preprocessing import LabelEncoder\n",
    "\n",
    "# Encode categorical features\n",
    "encoders = {}\n",
    "for col in categorical_cols:\n",
    "    le = LabelEncoder()\n",
    "    X[col] = le.fit_transform(X[col].astype(str))\n",
    "    encoders[col] = le  # Save encoder\n",
    "\n",
    "df.head()"
   ]
  },
  {
   "cell_type": "code",
   "execution_count": 40,
   "metadata": {},
   "outputs": [
    {
     "name": "stdout",
     "output_type": "stream",
     "text": [
      "______\n",
      "Mapping for country:\n",
      "0 → brunei\n",
      "1 → indonesia\n",
      "2 → malaysia\n",
      "3 → philippines\n",
      "4 → singapore\n",
      "5 → thailand\n",
      "6 → vietnam\n",
      "______\n",
      "Mapping for city:\n",
      "0 → baguio\n",
      "1 → bandar seri begawan\n",
      "2 → bandung\n",
      "3 → bangar\n",
      "4 → bangkok\n",
      "5 → can tho\n",
      "6 → cebu\n",
      "7 → central\n",
      "8 → chiang mai\n",
      "9 → da nang\n",
      "10 → davao\n",
      "11 → denpasar\n",
      "12 → hai phong\n",
      "13 → hanoi\n",
      "14 → hat yai\n",
      "15 → ho chi minh\n",
      "16 → ipoh\n",
      "17 → jakarta\n",
      "18 → johor bahru\n",
      "19 → jurong\n",
      "20 → kuala belait\n",
      "21 → kuala lumpur\n",
      "22 → manila\n",
      "23 → medan\n",
      "24 → pattaya\n",
      "25 → penang\n",
      "26 → phuket\n",
      "27 → quezon city\n",
      "28 → seria\n",
      "29 → shah alam\n",
      "30 → surabaya\n",
      "31 → tampines\n",
      "32 → tutong\n",
      "33 → unknown\n",
      "34 → woodlands\n",
      "35 → yishun\n",
      "______\n",
      "Mapping for gender:\n",
      "0 → female\n",
      "1 → male\n",
      "2 → other\n",
      "______\n",
      "Mapping for membership_tier:\n",
      "0 → basic\n",
      "1 → premium\n",
      "2 → standard\n",
      "3 → vip\n",
      "______\n",
      "Mapping for last_payment_method:\n",
      "0 → bank transfer\n",
      "1 → credit card\n",
      "2 → debit card\n",
      "3 → e-wallet\n",
      "4 → paypal\n",
      "5 → unknown\n"
     ]
    }
   ],
   "source": [
    "for col, le in encoders.items():\n",
    "  mapping = dict(zip(le.classes_, le.transform(le.classes_)))\n",
    "  print('______')\n",
    "  print(f\"Mapping for {col}:\")\n",
    "  for i, label in enumerate(le.classes_):\n",
    "    print(f\"{i} → {label}\")"
   ]
  },
  {
   "cell_type": "markdown",
   "metadata": {
    "id": "hgBqfu06pOzH"
   },
   "source": [
    "## **Choosing model**"
   ]
  },
  {
   "cell_type": "code",
   "execution_count": 41,
   "metadata": {},
   "outputs": [
    {
     "data": {
      "text/plain": [
       "churn\n",
       "0    6475\n",
       "1      32\n",
       "Name: count, dtype: int64"
      ]
     },
     "execution_count": 41,
     "metadata": {},
     "output_type": "execute_result"
    }
   ],
   "source": [
    "df['churn'].value_counts()"
   ]
  },
  {
   "cell_type": "markdown",
   "metadata": {},
   "source": [
    "- class imbalance for churn: Non-churn (99.5%), Churn (0.5%)"
   ]
  },
  {
   "cell_type": "code",
   "execution_count": 42,
   "metadata": {},
   "outputs": [
    {
     "name": "stdout",
     "output_type": "stream",
     "text": [
      "Train churn rate: 0.004995196926032661\n",
      "Test churn rate: 0.004608294930875576\n"
     ]
    }
   ],
   "source": [
    "from sklearn.model_selection import train_test_split\n",
    "\n",
    "X_train, X_test, y_train, y_test = train_test_split(X, y, test_size=0.2, random_state=42, stratify=y)\n",
    "\n",
    "# Check churn distribution\n",
    "print(\"Train churn rate:\", y_train.mean())\n",
    "print(\"Test churn rate:\", y_test.mean())"
   ]
  },
  {
   "cell_type": "code",
   "execution_count": 43,
   "metadata": {},
   "outputs": [
    {
     "name": "stdout",
     "output_type": "stream",
     "text": [
      "Original distribution: [0.99508222 0.00491778]\n",
      "Train distribution:    [0.9950048 0.0049952]\n",
      "Test distribution:     [0.99539171 0.00460829]\n"
     ]
    }
   ],
   "source": [
    "print(\"Original distribution:\", np.bincount(y) / len(y))\n",
    "print(\"Train distribution:   \", np.bincount(y_train) / len(y_train))\n",
    "print(\"Test distribution:    \", np.bincount(y_test) / len(y_test))"
   ]
  },
  {
   "cell_type": "markdown",
   "metadata": {
    "id": "21GmL5eTlgVR"
   },
   "source": [
    "Applying the following algorithms :\n",
    "\n",
    "1.   K-NN\n",
    "2.   Decision Tree\n",
    "3.   SVM\n",
    "4.   Random Forest\n",
    "5.   Logistic Regression\n",
    "6.   XGoost\n",
    "\n"
   ]
  },
  {
   "cell_type": "markdown",
   "metadata": {
    "id": "YiO2d8FmpU-T"
   },
   "source": [
    "Import algorithms"
   ]
  },
  {
   "cell_type": "code",
   "execution_count": 44,
   "metadata": {
    "executionInfo": {
     "elapsed": 5,
     "status": "ok",
     "timestamp": 1761464199741,
     "user": {
      "displayName": "Nurul Eirda Nurina Abd Halim",
      "userId": "07254626677884203620"
     },
     "user_tz": -480
    },
    "id": "4AZr655klbcN"
   },
   "outputs": [],
   "source": [
    "from sklearn.neighbors import KNeighborsClassifier\n",
    "from sklearn.tree import DecisionTreeClassifier\n",
    "from sklearn.svm import SVC\n",
    "from sklearn.ensemble import RandomForestClassifier\n",
    "from sklearn.linear_model import LogisticRegression\n",
    "from xgboost import XGBClassifier\n",
    "from sklearn.metrics import accuracy_score, confusion_matrix, classification_report, jaccard_score, log_loss\n",
    "\n",
    "import warnings\n",
    "warnings.filterwarnings('ignore')"
   ]
  },
  {
   "cell_type": "markdown",
   "metadata": {
    "id": "R0Cd8dL1pZ1f"
   },
   "source": [
    "### **1. KNN**"
   ]
  },
  {
   "cell_type": "code",
   "execution_count": 45,
   "metadata": {
    "colab": {
     "base_uri": "https://localhost:8080/"
    },
    "collapsed": true,
    "executionInfo": {
     "elapsed": 55,
     "status": "ok",
     "timestamp": 1761464200630,
     "user": {
      "displayName": "Nurul Eirda Nurina Abd Halim",
      "userId": "07254626677884203620"
     },
     "user_tz": -480
    },
    "id": "SZkx_k8KpXLq",
    "outputId": "645401a2-2a78-41bb-bdca-6872793e2208"
   },
   "outputs": [
    {
     "name": "stdout",
     "output_type": "stream",
     "text": [
      "Accuracy score:  99.53917050691244\n"
     ]
    }
   ],
   "source": [
    "model_KNN = KNeighborsClassifier()\n",
    "\n",
    "#training\n",
    "model_KNN.fit(X_train, y_train)\n",
    "\n",
    "#prediction\n",
    "y_pred_KNN = model_KNN.predict(X_test)\n",
    "\n",
    "#evaluation\n",
    "print('Accuracy score: ', accuracy_score(y_test, y_pred_KNN)*100)\n",
    "#print('Confusion matrix: ', confusion_matrix(y_test, y_pred_KNN))\n",
    "#print('Classification report: ', classification_report(y_test, y_pred_KNN))"
   ]
  },
  {
   "cell_type": "markdown",
   "metadata": {
    "id": "T-59xPqZt6in"
   },
   "source": [
    "### **2. Decision Tree**"
   ]
  },
  {
   "cell_type": "code",
   "execution_count": 46,
   "metadata": {
    "colab": {
     "base_uri": "https://localhost:8080/"
    },
    "executionInfo": {
     "elapsed": 73,
     "status": "ok",
     "timestamp": 1761461050869,
     "user": {
      "displayName": "Nurul Eirda Nurina Abd Halim",
      "userId": "07254626677884203620"
     },
     "user_tz": -480
    },
    "id": "5uPh2rqAphEh",
    "outputId": "98e25add-65c1-41c8-b9a2-ac1ed4aaead6"
   },
   "outputs": [
    {
     "name": "stdout",
     "output_type": "stream",
     "text": [
      "Accuracy score:  99.84639016897081\n"
     ]
    }
   ],
   "source": [
    "model_DT = DecisionTreeClassifier()\n",
    "\n",
    "#training\n",
    "model_DT.fit(X_train, y_train)\n",
    "\n",
    "#prediction\n",
    "y_pred_KNN = model_DT.predict(X_test)\n",
    "\n",
    "#evaluation\n",
    "print('Accuracy score: ', accuracy_score(y_test, y_pred_KNN)*100)\n",
    "#print('Confusion matrix: ', confusion_matrix(y_test, y_pred_KNN))\n",
    "#print('Classification report: ', classification_report(y_test, y_pred_KNN))"
   ]
  },
  {
   "cell_type": "markdown",
   "metadata": {
    "id": "tHyKJi9Bu306"
   },
   "source": [
    "### **3. SVM**"
   ]
  },
  {
   "cell_type": "code",
   "execution_count": 47,
   "metadata": {
    "colab": {
     "base_uri": "https://localhost:8080/"
    },
    "executionInfo": {
     "elapsed": 269,
     "status": "ok",
     "timestamp": 1761461051136,
     "user": {
      "displayName": "Nurul Eirda Nurina Abd Halim",
      "userId": "07254626677884203620"
     },
     "user_tz": -480
    },
    "id": "A2pmjqWCuzMS",
    "outputId": "f46bdd9d-49a5-4f7a-d4da-a4a2bf87a94d"
   },
   "outputs": [
    {
     "name": "stdout",
     "output_type": "stream",
     "text": [
      "Accuracy score:  99.53917050691244\n"
     ]
    }
   ],
   "source": [
    "model_SVM = SVC()\n",
    "\n",
    "#training\n",
    "model_SVM.fit(X_train, y_train)\n",
    "\n",
    "#prediction\n",
    "y_pred_SVM = model_SVM.predict(X_test)\n",
    "\n",
    "#evaluation\n",
    "print('Accuracy score: ', accuracy_score(y_test, y_pred_SVM)*100)\n",
    "#print('Confusion matrix: ', confusion_matrix(y_test, y_pred_SVM))\n",
    "#print('Classification report: ', classification_report(y_test, y_pred_SVM))"
   ]
  },
  {
   "cell_type": "code",
   "execution_count": 48,
   "metadata": {
    "colab": {
     "base_uri": "https://localhost:8080/"
    },
    "executionInfo": {
     "elapsed": 77,
     "status": "ok",
     "timestamp": 1761461051215,
     "user": {
      "displayName": "Nurul Eirda Nurina Abd Halim",
      "userId": "07254626677884203620"
     },
     "user_tz": -480
    },
    "id": "9UVyvF1cu801",
    "outputId": "404aabf6-ec3b-4aec-cc15-60a815cc840d"
   },
   "outputs": [
    {
     "name": "stdout",
     "output_type": "stream",
     "text": [
      "Accuracy score:  99.84639016897081\n"
     ]
    }
   ],
   "source": [
    "model_SVM = SVC(kernel = 'linear')\n",
    "\n",
    "#training\n",
    "model_SVM.fit(X_train, y_train)\n",
    "\n",
    "#prediction\n",
    "y_pred_SVM = model_SVM.predict(X_test)\n",
    "\n",
    "#evaluation\n",
    "print('Accuracy score: ', accuracy_score(y_test, y_pred_SVM)*100)\n",
    "#print('Confusion matrix: ', confusion_matrix(y_test, y_pred_SVM))\n",
    "#print('Classification report: ', classification_report(y_test, y_pred_SVM))"
   ]
  },
  {
   "cell_type": "code",
   "execution_count": 49,
   "metadata": {
    "colab": {
     "base_uri": "https://localhost:8080/"
    },
    "executionInfo": {
     "elapsed": 166,
     "status": "ok",
     "timestamp": 1761461051404,
     "user": {
      "displayName": "Nurul Eirda Nurina Abd Halim",
      "userId": "07254626677884203620"
     },
     "user_tz": -480
    },
    "id": "OD_PYzP1wRU2",
    "outputId": "a66520be-fa5c-408a-ac2a-0a57be7c70e7"
   },
   "outputs": [
    {
     "name": "stdout",
     "output_type": "stream",
     "text": [
      "Accuracy score:  99.53917050691244\n"
     ]
    }
   ],
   "source": [
    "model_SVM = SVC(kernel = 'poly')\n",
    "\n",
    "#training\n",
    "model_SVM.fit(X_train, y_train)\n",
    "\n",
    "#prediction\n",
    "y_pred_SVM = model_SVM.predict(X_test)\n",
    "\n",
    "#evaluation\n",
    "print('Accuracy score: ', accuracy_score(y_test, y_pred_SVM)*100)\n",
    "#print('Confusion matrix: ', confusion_matrix(y_test, y_pred_SVM))\n",
    "#print('Classification report: ', classification_report(y_test, y_pred_SVM))"
   ]
  },
  {
   "cell_type": "code",
   "execution_count": 50,
   "metadata": {
    "colab": {
     "base_uri": "https://localhost:8080/"
    },
    "executionInfo": {
     "elapsed": 96,
     "status": "ok",
     "timestamp": 1761461051512,
     "user": {
      "displayName": "Nurul Eirda Nurina Abd Halim",
      "userId": "07254626677884203620"
     },
     "user_tz": -480
    },
    "id": "fSDFAAwbwV6C",
    "outputId": "6fcafcb3-657d-4e04-84fa-c2fb73b4d00e"
   },
   "outputs": [
    {
     "name": "stdout",
     "output_type": "stream",
     "text": [
      "Accuracy score:  99.53917050691244\n"
     ]
    }
   ],
   "source": [
    "model_SVM = SVC(kernel = 'sigmoid')\n",
    "\n",
    "#training\n",
    "model_SVM.fit(X_train, y_train)\n",
    "\n",
    "#prediction\n",
    "y_pred_SVM = model_SVM.predict(X_test)\n",
    "\n",
    "#evaluation\n",
    "print('Accuracy score: ', accuracy_score(y_test, y_pred_SVM)*100)\n",
    "#print('Confusion matrix: ', confusion_matrix(y_test, y_pred_SVM))\n",
    "#print('Classification report: ', classification_report(y_test, y_pred_SVM))"
   ]
  },
  {
   "cell_type": "markdown",
   "metadata": {
    "id": "JHf9shnNwgJl"
   },
   "source": [
    "### **4. Random Forest**"
   ]
  },
  {
   "cell_type": "code",
   "execution_count": 51,
   "metadata": {
    "colab": {
     "base_uri": "https://localhost:8080/"
    },
    "executionInfo": {
     "elapsed": 1235,
     "status": "ok",
     "timestamp": 1761461052745,
     "user": {
      "displayName": "Nurul Eirda Nurina Abd Halim",
      "userId": "07254626677884203620"
     },
     "user_tz": -480
    },
    "id": "KkvT6zN3waRo",
    "outputId": "a6ab2e41-14b1-4259-9ed3-7228b0c4f4a1"
   },
   "outputs": [
    {
     "name": "stdout",
     "output_type": "stream",
     "text": [
      "Accuracy score:  100.0\n"
     ]
    }
   ],
   "source": [
    "model_RF = RandomForestClassifier()\n",
    "\n",
    "#training\n",
    "model_RF.fit(X_train, y_train)\n",
    "\n",
    "#prediction\n",
    "y_pred_RF = model_RF.predict(X_test)\n",
    "\n",
    "#evaluation\n",
    "print('Accuracy score: ', accuracy_score(y_test, y_pred_RF)*100)\n",
    "#print('Confusion matrix: ', confusion_matrix(y_test, y_pred_RF))\n",
    "#print('Classification report: ', classification_report(y_test, y_pred_RF))"
   ]
  },
  {
   "cell_type": "markdown",
   "metadata": {
    "id": "e8wCIBPnxINM"
   },
   "source": [
    "### **5. Logistic Regression**"
   ]
  },
  {
   "cell_type": "code",
   "execution_count": 52,
   "metadata": {
    "colab": {
     "base_uri": "https://localhost:8080/"
    },
    "executionInfo": {
     "elapsed": 103,
     "status": "ok",
     "timestamp": 1761461052875,
     "user": {
      "displayName": "Nurul Eirda Nurina Abd Halim",
      "userId": "07254626677884203620"
     },
     "user_tz": -480
    },
    "id": "Y-keNegFwpAL",
    "outputId": "047cc647-5670-46cb-a401-b249dcd7eee7"
   },
   "outputs": [
    {
     "name": "stdout",
     "output_type": "stream",
     "text": [
      "Accuracy score:  99.53917050691244\n"
     ]
    }
   ],
   "source": [
    "model_LR = LogisticRegression()\n",
    "\n",
    "#training\n",
    "model_LR.fit(X_train, y_train)\n",
    "\n",
    "#prediction\n",
    "y_pred_LR = model_LR.predict(X_test)\n",
    "\n",
    "#evaluation\n",
    "print('Accuracy score: ', accuracy_score(y_test, y_pred_LR)*100)\n",
    "#print('Confusion matrix: ', confusion_matrix(y_test, y_pred_LR))\n",
    "#print('Classification report: ', classification_report(y_test, y_pred_LR))"
   ]
  },
  {
   "cell_type": "markdown",
   "metadata": {
    "id": "AXgvm8QsxTUh"
   },
   "source": [
    "### **6. XGBoost**"
   ]
  },
  {
   "cell_type": "code",
   "execution_count": 53,
   "metadata": {
    "colab": {
     "base_uri": "https://localhost:8080/"
    },
    "executionInfo": {
     "elapsed": 616,
     "status": "ok",
     "timestamp": 1761461053512,
     "user": {
      "displayName": "Nurul Eirda Nurina Abd Halim",
      "userId": "07254626677884203620"
     },
     "user_tz": -480
    },
    "id": "cM-bGSSgxQKR",
    "outputId": "ae48244b-d01a-4192-cc22-3ba8d40d25bd"
   },
   "outputs": [
    {
     "name": "stdout",
     "output_type": "stream",
     "text": [
      "Accuracy score:  99.76958525345621\n"
     ]
    }
   ],
   "source": [
    "model_XGBoost = XGBClassifier()\n",
    "\n",
    "#training\n",
    "model_XGBoost.fit(X_train, y_train)\n",
    "\n",
    "#prediction\n",
    "y_pred_XGBoost = model_XGBoost.predict(X_test)\n",
    "\n",
    "#evaluation\n",
    "print('Accuracy score: ', accuracy_score(y_test, y_pred_XGBoost)*100)\n",
    "#print('Confusion matrix: ', confusion_matrix(y_test, y_pred_XGBoost))\n",
    "#print('Classification report: ', classification_report(y_test, y_pred_XGBoost))"
   ]
  },
  {
   "cell_type": "markdown",
   "metadata": {
    "id": "R8rSGq2212Kj"
   },
   "source": [
    "**Summarization of all the models**"
   ]
  },
  {
   "cell_type": "code",
   "execution_count": 54,
   "metadata": {
    "colab": {
     "base_uri": "https://localhost:8080/"
    },
    "executionInfo": {
     "elapsed": 1218,
     "status": "ok",
     "timestamp": 1761461054737,
     "user": {
      "displayName": "Nurul Eirda Nurina Abd Halim",
      "userId": "07254626677884203620"
     },
     "user_tz": -480
    },
    "id": "o8CkO9CzxVlC",
    "outputId": "373f3754-211c-437e-a503-1cd77d063017"
   },
   "outputs": [
    {
     "name": "stdout",
     "output_type": "stream",
     "text": [
      "KNN:\n",
      "Accuracy: 99.54%\n",
      "Jaccard Score: 0.00\n",
      "Log Loss: 0.1456510976605357\n",
      "\n",
      "\n",
      "Decision Tree:\n",
      "Accuracy: 99.85%\n",
      "Jaccard Score: 0.75\n",
      "Log Loss: 0.05536659506776849\n",
      "\n",
      "\n",
      "SVM:\n",
      "Accuracy: 99.54%\n",
      "Jaccard Score: 0.00\n",
      "Log Loss: N/A\n",
      "\n",
      "\n",
      "Random Forest:\n",
      "Accuracy: 100.00%\n",
      "Jaccard Score: 1.00\n",
      "Log Loss: 0.0035780191777050386\n",
      "\n",
      "\n",
      "Logistic Regression:\n",
      "Accuracy: 99.54%\n",
      "Jaccard Score: 0.00\n",
      "Log Loss: 0.02709979104116608\n",
      "\n",
      "\n",
      "XGBoost:\n",
      "Accuracy: 99.77%\n",
      "Jaccard Score: 0.50\n",
      "Log Loss: 0.002813725636957758\n",
      "\n",
      "\n",
      "The best classification model based on Accuracy is: Random Forest with Accuracy of 100.00%\n"
     ]
    }
   ],
   "source": [
    "from sklearn.metrics import accuracy_score, jaccard_score, log_loss, confusion_matrix, classification_report\n",
    "\n",
    "classification_models = {\n",
    "    'KNN': model_KNN,\n",
    "    'Decision Tree': model_DT,\n",
    "    'SVM': model_SVM,\n",
    "    'Random Forest': model_RF,\n",
    "    'Logistic Regression': model_LR,\n",
    "    'XGBoost': model_XGBoost\n",
    "}\n",
    "\n",
    "classification_results = {}\n",
    "\n",
    "for name, model in classification_models.items():\n",
    "    model.fit(X_train, y_train)\n",
    "    y_pred = model.predict(X_test)\n",
    "\n",
    "    accuracy = accuracy_score(y_test, y_pred)\n",
    "    jaccard = jaccard_score(y_test, y_pred)\n",
    "    # For models that can provide probabilities, calculate log loss\n",
    "    try:\n",
    "        y_pred_proba = model.predict_proba(X_test)[:, 1]\n",
    "        logloss = log_loss(y_test, y_pred_proba)\n",
    "    except AttributeError:\n",
    "        logloss = \"N/A\" # Not all models have predict_proba\n",
    "\n",
    "    classification_results[name] = {'Accuracy': accuracy, 'Jaccard Score': jaccard, 'Log Loss': logloss}\n",
    "    print(f'{name}:')\n",
    "    print(f'Accuracy: {accuracy * 100:.2f}%')\n",
    "    print(f'Jaccard Score: {jaccard:.2f}')\n",
    "    print(f'Log Loss: {logloss}')\n",
    "    print('\\n')\n",
    "\n",
    "# Find the best model based on Accuracy\n",
    "best_model_name = max(classification_results, key=lambda k: classification_results[k]['Accuracy'])\n",
    "print(f'The best classification model based on Accuracy is: {best_model_name} with Accuracy of {classification_results[best_model_name][\"Accuracy\"]*100:.2f}%')"
   ]
  },
  {
   "cell_type": "markdown",
   "metadata": {
    "id": "aRAyM0kFxeFl"
   },
   "source": [
    "## **Classification**"
   ]
  },
  {
   "cell_type": "code",
   "execution_count": 55,
   "metadata": {
    "colab": {
     "base_uri": "https://localhost:8080/"
    },
    "executionInfo": {
     "elapsed": 273,
     "status": "ok",
     "timestamp": 1761461055008,
     "user": {
      "displayName": "Nurul Eirda Nurina Abd Halim",
      "userId": "07254626677884203620"
     },
     "user_tz": -480
    },
    "id": "5d5uSHAkxf1Y",
    "outputId": "e16aa49d-5387-435f-d469-3d8f2f080dd0"
   },
   "outputs": [
    {
     "name": "stdout",
     "output_type": "stream",
     "text": [
      "Cross-validation scores: [1.         0.99923195 1.         0.99769408 1.        ]\n",
      "Mean cross-validation accuracy: 99.93852064641284\n"
     ]
    }
   ],
   "source": [
    "from sklearn.model_selection import cross_val_score\n",
    "\n",
    "# Apply cross-validation to the SVM model\n",
    "model_KK = KNeighborsClassifier()\n",
    "cv_scores = cross_val_score(model_RF, X, y, cv=5) # Using 5 folds\n",
    "\n",
    "print(\"Cross-validation scores:\", cv_scores)\n",
    "print(\"Mean cross-validation accuracy:\", cv_scores.mean() * 100)"
   ]
  },
  {
   "cell_type": "markdown",
   "metadata": {
    "id": "o6HF9DNkyHSb"
   },
   "source": [
    "## **Save Model and Scaler**"
   ]
  },
  {
   "cell_type": "code",
   "execution_count": 56,
   "metadata": {
    "colab": {
     "base_uri": "https://localhost:8080/"
    },
    "executionInfo": {
     "elapsed": 245,
     "status": "ok",
     "timestamp": 1761464781019,
     "user": {
      "displayName": "Nurul Eirda Nurina Abd Halim",
      "userId": "07254626677884203620"
     },
     "user_tz": -480
    },
    "id": "f93mMn6EMTe5",
    "outputId": "3ddb7cec-cfdc-4e19-8f75-dcf63651f255"
   },
   "outputs": [
    {
     "data": {
      "text/plain": [
       "['results/feature_cols.joblib']"
      ]
     },
     "execution_count": 56,
     "metadata": {},
     "output_type": "execute_result"
    }
   ],
   "source": [
    "# Example correct training & saving workflow\n",
    "import joblib\n",
    "\n",
    "joblib.dump(model_RF, \"results/model_RF_class.joblib\")\n",
    "joblib.dump(norm_x, \"results/scaler.joblib\")          # ← save 'scaler', not 'norm_x'\n",
    "joblib.dump(encoders, \"results/input_encoders.joblib\")\n",
    "joblib.dump(feature_cols, \"results/feature_cols.joblib\")"
   ]
  }
 ],
 "metadata": {
  "colab": {
   "collapsed_sections": [
    "hgBqfu06pOzH",
    "R0Cd8dL1pZ1f",
    "T-59xPqZt6in",
    "tHyKJi9Bu306",
    "JHf9shnNwgJl",
    "e8wCIBPnxINM",
    "aRAyM0kFxeFl"
   ],
   "provenance": []
  },
  "kernelspec": {
   "display_name": "Python 3",
   "name": "python3"
  },
  "language_info": {
   "codemirror_mode": {
    "name": "ipython",
    "version": 3
   },
   "file_extension": ".py",
   "mimetype": "text/x-python",
   "name": "python",
   "nbconvert_exporter": "python",
   "pygments_lexer": "ipython3",
   "version": "3.12.0"
  }
 },
 "nbformat": 4,
 "nbformat_minor": 0
}
