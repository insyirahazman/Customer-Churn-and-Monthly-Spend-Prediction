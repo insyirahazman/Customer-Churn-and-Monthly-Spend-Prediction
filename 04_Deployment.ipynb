{
 "cells": [
  {
   "cell_type": "markdown",
   "id": "72850c8a",
   "metadata": {},
   "source": [
    "Deployment for Classification and Regression Model using Gradio"
   ]
  },
  {
   "cell_type": "code",
   "execution_count": 25,
   "id": "a15d61bf",
   "metadata": {},
   "outputs": [
    {
     "name": "stdout",
     "output_type": "stream",
     "text": [
      "* Running on local URL:  http://127.0.0.1:7869\n",
      "* To create a public link, set `share=True` in `launch()`.\n"
     ]
    },
    {
     "data": {
      "text/html": [
       "<div><iframe src=\"http://127.0.0.1:7869/\" width=\"100%\" height=\"500\" allow=\"autoplay; camera; microphone; clipboard-read; clipboard-write;\" frameborder=\"0\" allowfullscreen></iframe></div>"
      ],
      "text/plain": [
       "<IPython.core.display.HTML object>"
      ]
     },
     "metadata": {},
     "output_type": "display_data"
    },
    {
     "name": "stdout",
     "output_type": "stream",
     "text": [
      "[PREDICTION ERROR] This RandomForestClassifier instance is not fitted yet. Call 'fit' with appropriate arguments before using this estimator.\n"
     ]
    }
   ],
   "source": [
    "import gradio as gr\n",
    "import joblib\n",
    "import pandas as pd\n",
    "from sklearn.preprocessing import LabelEncoder\n",
    "\n",
    "# --- Load data ---\n",
    "df = pd.read_csv('cleaned_data.csv')\n",
    "\n",
    "# --- Load models and scaler ---\n",
    "model_RF_class = joblib.load(\"results/model_RF_class.joblib\")\n",
    "model_RF_reg = joblib.load(\"results/model_RF_reg.joblib\")\n",
    "norm_x = joblib.load(\"results/scaler.joblib\")\n",
    "\n",
    "# --- Define feature columns: ALL except target & metadata ---\n",
    "non_feature_cols = {'churn', 'signup_date', 'customer_id'}  # ← add 'customer_id'\n",
    "feature_cols_class = [col for col in df.columns if col not in non_feature_cols]\n",
    "feature_cols_reg = ['avg_session_length', 'sessions_per_month', 'engagement_index', 'total_session_time']\n",
    "\n",
    "\n",
    "# --- Categorical columns (update if needed) ---\n",
    "categorical_input_cols = ['country', 'city', 'gender', 'membership_tier', 'last_payment_method']\n",
    "\n",
    "# --- Build encoders from df ---\n",
    "encoders = {}\n",
    "for col in categorical_input_cols:\n",
    "    if col in df.columns:\n",
    "        le = LabelEncoder()\n",
    "        le.fit(df[col].astype(str).dropna().unique())\n",
    "        encoders[col] = le\n",
    "    else:\n",
    "        print(f\"[WARNING] Categorical column '{col}' not found in data!\")\n",
    "\n",
    "# --- Helper for min/max ---\n",
    "def get_min_max(col, fallback_min=0.0, fallback_max=100.0):\n",
    "    if col in df.columns:\n",
    "        return float(df[col].min()), float(df[col].max())\n",
    "    else:\n",
    "        print(f\"[WARNING] Column '{col}' not found. Using fallback range.\")\n",
    "        return fallback_min, fallback_max\n",
    "\n",
    "# --- Churn Prediction (Dynamic Inputs) ---\n",
    "def predict_churn(*inputs):\n",
    "    try:\n",
    "        # Build input dict from feature list\n",
    "        data = {}\n",
    "        for col, val in zip(feature_cols_class, inputs):\n",
    "            if col in categorical_input_cols:\n",
    "                data[col] = [str(val)]\n",
    "            elif col == 'is_mobile_user':\n",
    "                data[col] = [int(val)]\n",
    "            else:\n",
    "                data[col] = [float(val)]\n",
    "        \n",
    "        X_new = pd.DataFrame(data)\n",
    "\n",
    "        # Encode categorical features\n",
    "        for col in categorical_input_cols:\n",
    "            if col in X_new.columns and col in encoders:\n",
    "                known = set(encoders[col].classes_)\n",
    "                X_new[col] = X_new[col].apply(lambda x: x if x in known else encoders[col].classes_[0])\n",
    "                X_new[col] = encoders[col].transform(X_new[col])\n",
    "\n",
    "        # Ensure correct order and type\n",
    "        X_input = X_new[feature_cols_class].astype(float)\n",
    "        X_scaled = norm_x.transform(X_input)\n",
    "\n",
    "        # Predict\n",
    "        proba = model_RF_class.predict_proba(X_scaled)[0, 1]\n",
    "        label = \"Yes\" if proba >= 0.5 else \"No\"\n",
    "        return label, float(proba)\n",
    "\n",
    "    except Exception as e:\n",
    "        print(f\"[PREDICTION ERROR] {e}\")\n",
    "        return \"Error\", 0.0\n",
    "\n",
    "# --- Spend Prediction ---\n",
    "def predict_spend(avg_session_length, sessions_per_month, engagement_index, total_session_time):\n",
    "    try:\n",
    "        x = pd.DataFrame([{\n",
    "            'avg_session_length': float(avg_session_length),\n",
    "            'sessions_per_month': float(sessions_per_month),\n",
    "            'engagement_index': float(engagement_index),\n",
    "            'total_session_time': float(total_session_time),\n",
    "        }])\n",
    "        x = x.reindex(columns=feature_cols_reg, fill_value=0.0)\n",
    "        pred = model_RF_reg.predict(x)[0]\n",
    "        return f\"Predicted Average Monthly Spend: RM{pred:.2f}\"\n",
    "    except Exception as e:\n",
    "        print(f\"[SPEND PREDICTION ERROR] {e}\")\n",
    "        return \"Error in spend prediction\"\n",
    "\n",
    "# --- Build Gradio UI ---\n",
    "with gr.Blocks(title=\"Customer Churn & Spend Predictor\") as demo:\n",
    "    gr.Markdown(\"# 📊 Customer Churn & Spend Predictor\")\n",
    "\n",
    "    with gr.Tabs():\n",
    "        # === CHURN PREDICTION TAB ===\n",
    "        with gr.Tab(\"📉 Churn Prediction\"):\n",
    "            gr.Markdown(\"Enter customer details to predict if they will churn.\")\n",
    "\n",
    "            with gr.Row():\n",
    "                with gr.Column():\n",
    "                    input_components = []\n",
    "                    for col in feature_cols_class:\n",
    "                        if col in categorical_input_cols and col in encoders:\n",
    "                            comp = gr.Dropdown(\n",
    "                                choices=sorted(encoders[col].classes_.tolist()),\n",
    "                                label=col\n",
    "                            )\n",
    "                        elif col == 'is_mobile_user':\n",
    "                            comp = gr.Checkbox(label=col)\n",
    "                        else:\n",
    "                            min_val, max_val = get_min_max(col, 0, 100)\n",
    "                            step = 0.01 if max_val > 10 else 1\n",
    "                            comp = gr.Slider(min_val, max_val, step=step, label=col)\n",
    "                        input_components.append(comp)\n",
    "\n",
    "                    btn_cls = gr.Button(\"Predict Churn\", variant=\"primary\")\n",
    "\n",
    "                with gr.Column():\n",
    "                    out_label = gr.Textbox(label=\"Churn Prediction\", interactive=False)\n",
    "                    out_proba = gr.Number(label=\"Churn Probability\", interactive=False)\n",
    "\n",
    "            btn_cls.click(\n",
    "                fn=predict_churn,\n",
    "                inputs=input_components,\n",
    "                outputs=[out_label, out_proba]\n",
    "            )\n",
    "\n",
    "        # === SPEND PREDICTION TAB ===\n",
    "        with gr.Tab(\"💰 Spend Prediction\"):\n",
    "            gr.Markdown(\"Predict average monthly spend based on engagement metrics.\")\n",
    "\n",
    "            with gr.Row():\n",
    "                with gr.Column():\n",
    "                    avg_session_length_reg = gr.Slider(*get_min_max('avg_session_length', 5, 60), step=0.01, label=\"Avg Session Length\")\n",
    "                    sessions_per_month_reg = gr.Slider(*get_min_max('sessions_per_month', 1, 50), step=0.01, label=\"Sessions/Month\")\n",
    "                    engagement_index = gr.Slider(*get_min_max('engagement_index', 0, 100), step=0.01, label=\"Engagement Index\")\n",
    "                    total_session_time = gr.Slider(*get_min_max('total_session_time', 0, 5000), step=0.01, label=\"Total Session Time\")\n",
    "\n",
    "                    btn_reg = gr.Button(\"Predict Spend\", variant=\"primary\")\n",
    "\n",
    "                with gr.Column():\n",
    "                    out_spend = gr.Textbox(label=\"Prediction Result\", interactive=False)\n",
    "\n",
    "            btn_reg.click(\n",
    "                fn=predict_spend,\n",
    "                inputs=[avg_session_length_reg, sessions_per_month_reg, engagement_index, total_session_time],\n",
    "                outputs=out_spend\n",
    "            )\n",
    "\n",
    "# Launch\n",
    "if __name__ == \"__main__\":\n",
    "    demo.launch()"
   ]
  },
  {
   "cell_type": "code",
   "execution_count": null,
   "id": "810e6f57",
   "metadata": {},
   "outputs": [
    {
     "ename": "AttributeError",
     "evalue": "'RandomForestClassifier' object has no attribute 'feature_names_in_'",
     "output_type": "error",
     "traceback": [
      "\u001b[31m---------------------------------------------------------------------------\u001b[39m",
      "\u001b[31mAttributeError\u001b[39m                            Traceback (most recent call last)",
      "\u001b[36mCell\u001b[39m\u001b[36m \u001b[39m\u001b[32mIn[24]\u001b[39m\u001b[32m, line 1\u001b[39m\n\u001b[32m----> \u001b[39m\u001b[32m1\u001b[39m \u001b[38;5;28mprint\u001b[39m(\u001b[33m\"\u001b[39m\u001b[33mFeatures expected by model:\u001b[39m\u001b[33m\"\u001b[39m, \u001b[43mmodel_RF_class\u001b[49m\u001b[43m.\u001b[49m\u001b[43mfeature_names_in_\u001b[49m)\n",
      "\u001b[31mAttributeError\u001b[39m: 'RandomForestClassifier' object has no attribute 'feature_names_in_'"
     ]
    },
    {
     "name": "stdout",
     "output_type": "stream",
     "text": [
      "[PREDICTION ERROR] The feature names should match those that were passed during fit.\n",
      "Feature names unseen at fit time:\n",
      "- customer_id\n",
      "\n",
      "[PREDICTION ERROR] The feature names should match those that were passed during fit.\n",
      "Feature names unseen at fit time:\n",
      "- customer_id\n",
      "\n",
      "[PREDICTION ERROR] The feature names should match those that were passed during fit.\n",
      "Feature names unseen at fit time:\n",
      "- customer_id\n",
      "\n"
     ]
    }
   ],
   "source": [
    "print(\"Features expected by model:\", model_RF_class.feature_names_in_)"
   ]
  }
 ],
 "metadata": {
  "kernelspec": {
   "display_name": "Python 3",
   "language": "python",
   "name": "python3"
  },
  "language_info": {
   "codemirror_mode": {
    "name": "ipython",
    "version": 3
   },
   "file_extension": ".py",
   "mimetype": "text/x-python",
   "name": "python",
   "nbconvert_exporter": "python",
   "pygments_lexer": "ipython3",
   "version": "3.12.0"
  }
 },
 "nbformat": 4,
 "nbformat_minor": 5
}
